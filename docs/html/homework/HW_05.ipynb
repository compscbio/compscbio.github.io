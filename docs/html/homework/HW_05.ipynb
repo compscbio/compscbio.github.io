{
 "cells": [
  {
   "cell_type": "markdown",
   "id": "a5e8be59-7499-4985-beb8-1d5629edff40",
   "metadata": {},
   "source": [
    "# Homework #5\n",
    "Due 11:59 pm EST, Friday April 1st, 2022.\n",
    "\n",
    "Email your solutions (both .ipnb and .html files) to: compscbio@gmail.com."
   ]
  },
  {
   "cell_type": "markdown",
   "id": "bc6801ae-5a24-41bf-b0c4-4d3307731d05",
   "metadata": {},
   "source": [
    "### Background:\n",
    "\n",
    "That same sadistic post-doc in your lab has just read the RNA Velocity paper and is _even more_ excited about it than about Cytotrace. You decide to see how well Velocity pseudotime compares to Cytotrace score derived pseudotime using data for which you can reasonably anchor the starting point of the trajectory inference."
   ]
  },
  {
   "cell_type": "markdown",
   "id": "cad0b219-efe9-46b2-a8a1-20f6b17a8458",
   "metadata": {},
   "source": [
    "### The data\n",
    "1. [The day 4 mESC data that we keep using over and over again](https://compstemcellbio.s3.amazonaws.com/2022/homework/05/adata_HW5_mESC_day4.h5ad)\n",
    "This is the raw counts data, as well as spliced and unspliced counts. As in HW4, we have cleaned it (i.e. removed potential doublets, low quality cells, and mito, ribo and malat genes). In terms of pre-processing, all you have to do is deal with rarely detected genes and normalization.\n",
    "\n",
    "2. There is _no_ second data set for this homework.\n"
   ]
  },
  {
   "cell_type": "markdown",
   "id": "db83dd0d-1d90-4a75-bb46-3b664155bfcd",
   "metadata": {},
   "source": [
    "### Your mission:\n",
    "\n",
    "Run your usual pre-processing, clustering and annotation. Perform Cytotrace analysis. Then run RNA velocity and plot the velocity embeddings on either (1) the 1st and 3rd principal components, or (2) the UMAP embedding (which you need to figure out how to make from the scanpy documentation). Then compute velocity pseudotime. Finally, as you did in HW4, compute diffusion based pseudotime. \n",
    "\n",
    "Determine how these three pseudotimes compare and produce an appropiate multi-panel figure to display them.\n",
    "\n",
    "Is there a relationship between velocity confidence and discreptancies between velocity pseudotime and Cytotrace pseudotime and/or diffusion pseudotime?"
   ]
  }
 ],
 "metadata": {
  "kernelspec": {
   "display_name": "Python 3 (ipykernel)",
   "language": "python",
   "name": "python3"
  },
  "language_info": {
   "codemirror_mode": {
    "name": "ipython",
    "version": 3
   },
   "file_extension": ".py",
   "mimetype": "text/x-python",
   "name": "python",
   "nbconvert_exporter": "python",
   "pygments_lexer": "ipython3",
   "version": "3.9.7"
  }
 },
 "nbformat": 4,
 "nbformat_minor": 5
}
