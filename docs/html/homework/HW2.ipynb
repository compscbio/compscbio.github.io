{
 "cells": [
  {
   "cell_type": "markdown",
   "id": "489d5555-d13c-4e2a-9c16-366fa8dec0f8",
   "metadata": {},
   "source": [
    "# Homework #2\n",
    "Due 11:59 pm EST, Tuesday March 1st, 2022.\n",
    "\n",
    "Email your solutions (both .ipnb and .html files) to: compscbio@gmail.com."
   ]
  },
  {
   "cell_type": "markdown",
   "id": "8bcd1b80-89d8-45c5-a016-50c002af634d",
   "metadata": {
    "tags": []
   },
   "source": [
    "### Background:\n",
    "\n",
    "You have just joined a new lab that is interested in the mammalian cell cycle. During lab meeting, you mentioned that you are taking a class that purports to teach you how to analyze scRNAseq data, and thereby you unwittingly 'volunteered' to close a project that a departing postdoc left unfinished. The postdoc was trying (1) to determine the extent to which cell cycle is impacted by stage of differentiation, and (2) to identify novel genes associated with cell cycle. To do so, this postdoc sampled mouse embryonic stem cells (mESCs) undergoing directed differerentation to mesoderm every 24 hours for five days and subjected these cells to scRNAseq via the 10x Genomics system. However, before the data could be analyzed, the postdoc got an offer in the private sector that could not be refused.  The PI of the lab knows that you are amazing, and expects you to work some magic in on the data to address the following questions:\n",
    "\n",
    "<uL>\n",
    "<LI>A) To what extent do the proportion of cells at each stage of cell cycle (CC) differ during directed differentiation?\n",
    "\n",
    "<LI>B) What novel genes are associated with CC?\n",
    "\n",
    "<LI>C) To what extent do these novel cell cycle genes vary across stages of differentiation?\n",
    "    </ul>\n",
    "\n",
    "However, because you are a relative newbie to this task, you want to use this project as an opportunity to also explore how the data cleaning steps impact the final results. Therefore, to recevie full credit, you will also need to answer the following question:\n",
    "\n",
    "<ul>    \n",
    "<LI>D) How do the various 'cleaning' steps outlined in class impact the results of (A-C)?\n",
    "    </ul>\n",
    "    \n",
    "### Two wrinkles, or unfortunate things\n",
    "One thing that makes analysis of this data problematic is that the sample annotation table has been lost. This means that you do not know, *a priori*, at which day of differentiation each cell was sampled. However, your lab has studied this system before and they know a handful of genes that are up-regulated specifcially at each stage of differentiation.\n",
    "\n",
    "The other problem has to do with how this experiment is performed. Often, mESCs are maintained and expanded on a layer of mouse embryonic fibroblasts (MEFs), which help to maintain self-renewal. MEFs are mitotically inactivated either chemically or via irradiation, so they never outgrow the mESCs during passage. When mESCs are prepared for directed differentiation, MEFs are depleted via an imperfect method such that some MEFs remain at the onset of the differentiation protocol. This means some MEFs are likely to have been sequenced in this experiment and you should exclude them *in silico* prior to downstream analysis."
   ]
  },
  {
   "cell_type": "markdown",
   "id": "32ddb954-5000-4c2a-97e6-3254401d6d97",
   "metadata": {},
   "source": [
    "\n",
    "### The data\n",
    "[scRNAseq in the form of an h5ad file](https://compstemcellbio.s3.amazonaws.com/2022/homework/02/adHW2.h5ad)\n",
    "This is the raw counts data. No data cleaning has been performed on it. There are 2,201 cells and 31,065 genes.\n",
    "\n",
    "### Gene lists\n",
    "[naive pluripotency](https://compstemcellbio.s3.amazonaws.com/2022/homework/02/genes_naive.csv)\n",
    "Genes preferentially expressed in undifferentiated mESCs.\n",
    "\n",
    "[primed pluripotency](https://compstemcellbio.s3.amazonaws.com/2022/homework/02/genes_primed.csv)\n",
    "Genes preferentially expressed in mESCs primed for differentiation.\n",
    "\n",
    "[primitive streak](https://compstemcellbio.s3.amazonaws.com/2022/homework/02/genes_primitive_streak.csv)\n",
    "Genes preferentially expressed in the primitive streak.\n",
    "\n",
    "[mesoderm](https://compstemcellbio.s3.amazonaws.com/2022/homework/02/genes_mesoderm.csv)\n",
    "Genes preferentially expressed in the nascent mesoderm.\n",
    "\n",
    "[MEF](https://compstemcellbio.s3.amazonaws.com/2022/homework/02/genes_fibroblasts.csv)\n",
    "Genes preferentially expressed in fibroblasts.\n",
    "\n",
    "[cell cycle](https://compstemcellbio.s3.amazonaws.com/2022/resources/mouseCellCycle_050218.csv)\n",
    "This is the same gene list that we covered in [lecture 7](https://compscbio.github.io/docs/html/day/07_scRNAseq_analysis_part_2.html)"
   ]
  },
  {
   "cell_type": "markdown",
   "id": "47ad2586-34e5-4809-a2c4-7249e3b78c9e",
   "metadata": {},
   "source": [
    "### Your mission: Part 1\n",
    "\n",
    "Load the data, identify contaminating MEFs, and remove them"
   ]
  },
  {
   "cell_type": "code",
   "execution_count": 10,
   "id": "e90386b0-b02f-4583-ae18-e9ce4874be80",
   "metadata": {},
   "outputs": [],
   "source": [
    "###  Part 1 code, figures and explanatory text goes here and in subsequent cells. Show all code."
   ]
  },
  {
   "cell_type": "markdown",
   "id": "6e90330a-235a-42c5-8c6d-a4961d61fb24",
   "metadata": {},
   "source": [
    "### Your mission: Part 2\n",
    "\n",
    "Clean the data as we discussed in class, including, but not limited to, filtering out potential doublets and low quality barcodes, and excluding undetected genes."
   ]
  },
  {
   "cell_type": "code",
   "execution_count": 11,
   "id": "d64c3ae8-e789-41be-a9f1-88d2f5ac4724",
   "metadata": {},
   "outputs": [],
   "source": [
    "###  Part 2 code, figures and explanatory text goes here and in subsequent cells. Show all code."
   ]
  },
  {
   "cell_type": "markdown",
   "id": "e809b510-2318-4718-b142-e7c53ad1dd40",
   "metadata": {},
   "source": [
    "### Your mission: Part 3\n",
    "\n",
    "Predict the stage of differentiation for each cell."
   ]
  },
  {
   "cell_type": "code",
   "execution_count": 12,
   "id": "51601421-fd28-40ed-ab6b-be18dbc43841",
   "metadata": {},
   "outputs": [],
   "source": [
    "###  Part 3 code, figures and explanatory text goes here and in subsequent cells. Show all code."
   ]
  },
  {
   "cell_type": "markdown",
   "id": "20f27a92-a3b8-4ec9-a135-0e2cb35439e6",
   "metadata": {},
   "source": [
    "### Your mission: Part 4\n",
    "\n",
    "Predict the stage of cell cycle of each cell. Use this information to address question (A) above: \n",
    "\n",
    "*To what extent do the proportion of cells at each stage of cell cycle (CC) differ during directed differentiation?*"
   ]
  },
  {
   "cell_type": "code",
   "execution_count": 13,
   "id": "bd8bbc31-500e-4c40-aadc-c00e89244765",
   "metadata": {},
   "outputs": [],
   "source": [
    "###  Part 4 code, figures and explanatory text goes here and in subsequent cells. Show all code."
   ]
  },
  {
   "cell_type": "markdown",
   "id": "bed344d8-76dc-4c07-be24-e72083c9a16f",
   "metadata": {},
   "source": [
    "### Your mission: Part 5\n",
    "\n",
    "Write a function to identify genes that are correlated with cell cycle stage (S and G2M) scores. You can use Pearson correlation.\n",
    "\n",
    "Use this function to determine the set of genes that are correlated with S and G2M during each stage of differentation. I recommend using a threshold of 0.45, but feel free to explore and select your own threshold, but if you do so, please justify.\n",
    "\n",
    "Use the resulting information to answer questions (B) and (C):\n",
    "\n",
    "(B): What novel genes are associated with CC?\n",
    "\n",
    "(C):To what extent do these novel CC genes vary across stages of differentiation?"
   ]
  },
  {
   "cell_type": "code",
   "execution_count": 14,
   "id": "63d6ac78-ef22-4a8c-8ead-f6d199462c64",
   "metadata": {},
   "outputs": [],
   "source": [
    "###  Part 5 code, figures and explanatory text goes here and in subsequent cells. Show all code."
   ]
  },
  {
   "cell_type": "markdown",
   "id": "c793e2d4-7b9d-45d4-a56f-e0c3cae4e4b8",
   "metadata": {},
   "source": [
    "Your mission: Part 6\n",
    "\n",
    "Go back and re-do your analysis of the MEF-depleted cells, but this time evaluate how the major cleaning steps impact ...\n",
    "- the predicted stage of differentiation\n",
    "- the predicted stage of CC, and how this varies by stage of differentiation\n",
    "- the identification of novel CC genes, and the extent to which they vary across stage of differentiation.\n"
   ]
  },
  {
   "cell_type": "code",
   "execution_count": 15,
   "id": "324e0844-aefe-4524-a1de-d14a84b2b48c",
   "metadata": {},
   "outputs": [],
   "source": [
    "###  Part 6 code, figures and explanatory text goes here and in subsequent cells. Show all code."
   ]
  },
  {
   "cell_type": "markdown",
   "id": "204b6b24-c460-40fa-b0e5-573e65f047ce",
   "metadata": {},
   "source": [
    "Bonus mission: \n",
    "\n",
    "Write a function that will generate a heatmap of your novel CC genes and order cells by predicted phase of CC."
   ]
  },
  {
   "cell_type": "code",
   "execution_count": 16,
   "id": "b9a8007a-ae3a-4c0c-98d5-4e1d2e2f0ca1",
   "metadata": {},
   "outputs": [],
   "source": [
    "###  Bonus mission code, figures and explanatory text goes here and in subsequent cells. Show all code."
   ]
  }
 ],
 "metadata": {
  "kernelspec": {
   "display_name": "Python 3 (ipykernel)",
   "language": "python",
   "name": "python3"
  },
  "language_info": {
   "codemirror_mode": {
    "name": "ipython",
    "version": 3
   },
   "file_extension": ".py",
   "mimetype": "text/x-python",
   "name": "python",
   "nbconvert_exporter": "python",
   "pygments_lexer": "ipython3",
   "version": "3.9.7"
  }
 },
 "nbformat": 4,
 "nbformat_minor": 5
}
