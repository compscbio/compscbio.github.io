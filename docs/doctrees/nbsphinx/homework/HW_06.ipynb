{
 "cells": [
  {
   "cell_type": "markdown",
   "id": "a5e8be59-7499-4985-beb8-1d5629edff40",
   "metadata": {},
   "source": [
    "# Homework #6\n",
    "Due 11:59 pm EST, Friday April 8th, 2022.\n",
    "\n",
    "Email your solutions (both .ipnb and .html files) to: compscbio@gmail.com."
   ]
  },
  {
   "cell_type": "markdown",
   "id": "bc6801ae-5a24-41bf-b0c4-4d3307731d05",
   "metadata": {},
   "source": [
    "### Background:\n",
    "\n",
    "A wise, less-sadistic post-doc in your collaborator's lab has generated scRNAseq data from HSPCs _exactly_ as was done in the Weinreb et al 2020 paper. (in fact, it is the same data). She has asked you to analyze it using CoSpar to address the two questions listed below."
   ]
  },
  {
   "cell_type": "markdown",
   "id": "cad0b219-efe9-46b2-a8a1-20f6b17a8458",
   "metadata": {},
   "source": [
    "### The data\n",
    "1. [scRNAseq data of hematopoietic stem with lineage barcodes](https://compstemcellbio.s3.amazonaws.com/2022/homework/06/adata_cospar_hspc.h5ad)\n",
    "This is the raw counts data, as well as lineage barcodes, as we discussed in the lineage tracing lectures.\n",
    "\n",
    "2. There is _no_ second data set for this homework.\n"
   ]
  },
  {
   "cell_type": "markdown",
   "id": "db83dd0d-1d90-4a75-bb46-3b664155bfcd",
   "metadata": {},
   "source": [
    "### Your mission:\n",
    "\n",
    "Analyze the data to answer the following questions\n",
    "\n",
    "1.) What genes distinguish undifferentiated cells biased towards erythrocytes versus megakaryocytes?\n",
    "\n",
    "2.) What genes distinguish undifferentiated cells biased towards erythrocytes AND megakaryocytes versus those undifferentiated cells biased towards monocytes AND neutrophils?"
   ]
  },
  {
   "cell_type": "markdown",
   "id": "c02ddce5-6837-48a7-b834-dedc6b40b62e",
   "metadata": {},
   "source": [
    "### Bonus (i.e. extra credit)\n",
    "\n",
    "3.) What genes distinguish the most multipotent cells from more fate bound but still undifferentiated cells?\n",
    "\n",
    "4.) Are any signaling pathways enriched in any of the differential expression analyses that you performed in #1-#3? The underlying hypothesis here is that fate biases result from exposure to different signaling mileus. You might explore this using GSEAPY or using the `sc.tl.score_genes()`. Here is a [list of signaling pathway targets](https://compstemcellbio.s3.amazonaws.com/2022/data/signaling_pathway_targets_040122.joblib), which might be helpful. It was derived as described in [Emily Su's paper](https://pubmed.ncbi.nlm.nih.gov/35090587/). You can load this dict object with the following code "
   ]
  },
  {
   "cell_type": "markdown",
   "id": "f338982f-d700-4f90-97d4-8aa8eb107c80",
   "metadata": {},
   "source": [
    "`from joblib import dump, load\n",
    "sigPathTargets  = load(\"signaling_pathway_targets_040122.joblib\")`"
   ]
  },
  {
   "cell_type": "markdown",
   "id": "91d3b6b8-bc81-473c-9e54-5dc433ff74e3",
   "metadata": {},
   "source": [
    "### Important notes:\n",
    "\n",
    "1.) The first time that you run a CoSpar analysis, run the `cs.hf.set_up_folders()` function. This will set up some directories that CoSpar assumes are in place.\n",
    "\n",
    "2.) To answer these questions, you will need to identify the undifferentiated cells that are likely to transition to either of these lineages. Please look at the updated Jupyter Notebook for CoSpar analysis as it contains some code that we did not cover in class to specifcially isolate fate biased progenitors.\n",
    "\n",
    "3.) You may need to adjust some parameters such as sum_fate_prob_thresh in the `tl.fate_bias()`. Same is true when defining differentially expressed genes. \n",
    "\n",
    "4.) The CoSpar documentation might be helpful if you get stuck or want to dig deeper.\n"
   ]
  }
 ],
 "metadata": {
  "kernelspec": {
   "display_name": "Python 3 (ipykernel)",
   "language": "python",
   "name": "python3"
  },
  "language_info": {
   "codemirror_mode": {
    "name": "ipython",
    "version": 3
   },
   "file_extension": ".py",
   "mimetype": "text/x-python",
   "name": "python",
   "nbconvert_exporter": "python",
   "pygments_lexer": "ipython3",
   "version": "3.9.7"
  }
 },
 "nbformat": 4,
 "nbformat_minor": 5
}
