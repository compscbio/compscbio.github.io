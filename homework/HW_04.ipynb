{
 "cells": [
  {
   "cell_type": "markdown",
   "id": "a5e8be59-7499-4985-beb8-1d5629edff40",
   "metadata": {},
   "source": [
    "# Homework #4\n",
    "Due 11:59 pm EST, Friday March 18th, 2022.\n",
    "\n",
    "Email your solutions (both .ipnb and .html files) to: compscbio@gmail.com."
   ]
  },
  {
   "cell_type": "markdown",
   "id": "bc6801ae-5a24-41bf-b0c4-4d3307731d05",
   "metadata": {},
   "source": [
    "### Background:\n",
    "\n",
    "A post-doc in your lab has just read the Cytotrace paper and is _very_ excited about it. But, as you are now a seasoned professional, your enthusiasm is a bit more modest and you decide to try it out before adding it to your rapidly expanding toolkit of sc analysis methods. You decide to see how well the Cytotrace score correlates with pseduotime computed on data for which you can reasonably anchor the starting point of the trajectory inference.\n"
   ]
  },
  {
   "cell_type": "markdown",
   "id": "cad0b219-efe9-46b2-a8a1-20f6b17a8458",
   "metadata": {},
   "source": [
    "### The data\n",
    "1. [The day 4 mESC data that we keep using over and over again](https://compstemcellbio.s3.amazonaws.com/2022/homework/04/adata_HW4_mESC_day4.h5ad)\n",
    "This is the raw counts data, however, we have cleaned it (i.e. removed potential doublets, low quality cells, and mito, ribo and malat genes). In terms of pre-processing, all you have to do is deal with rarely detected genes and normalization.\n",
    "\n",
    "2. [The day 0-4 mESC data that we used in HW2](https://compstemcellbio.s3.amazonaws.com/2022/homework/04/adata_HW4_mESC_from_HW2.h5ad)\n",
    "This is the raw counts data. Just like the data from #1 above, we have cleaned this data. Moreover, we have removed the MEFs, so you should start your analysis at the point of dealing with undetected genes.\n"
   ]
  },
  {
   "cell_type": "markdown",
   "id": "db83dd0d-1d90-4a75-bb46-3b664155bfcd",
   "metadata": {},
   "source": [
    "### Your mission:\n",
    "\n",
    "Produce one figure per data set that illustrate the relationship between pseudotime and Cytotrace time (i.e. 1- Cytotrace score). The idea here is to see how well Cytotrace works on data that you know well. You will need to perform pseudotime analysis using diffusion maps, and judicisouly select a root based on cluster annotation. You may wish to color your scatterplots by cluster (or cell type), or facet them, to get a sense of how the relationships vary by cell type."
   ]
  },
  {
   "cell_type": "markdown",
   "id": "7e5e2b4f-cccc-4119-99d2-14eb1a5db733",
   "metadata": {},
   "source": [
    "### Bonus mission:\n",
    "\n",
    "You wonder whether the overall trends that you have observed with the differentiating mESCs extend to other lineages. Therefore, you decide to perform a similar analysis using the young and old HSC data from HW3. "
   ]
  }
 ],
 "metadata": {
  "kernelspec": {
   "display_name": "Python 3 (ipykernel)",
   "language": "python",
   "name": "python3"
  },
  "language_info": {
   "codemirror_mode": {
    "name": "ipython",
    "version": 3
   },
   "file_extension": ".py",
   "mimetype": "text/x-python",
   "name": "python",
   "nbconvert_exporter": "python",
   "pygments_lexer": "ipython3",
   "version": "3.9.7"
  }
 },
 "nbformat": 4,
 "nbformat_minor": 5
}
